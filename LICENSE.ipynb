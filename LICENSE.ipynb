{
 "cells": [
  {
   "cell_type": "code",
   "execution_count": 13,
   "metadata": {
    "collapsed": false
   },
   "outputs": [],
   "source": [
    "##\n",
    "## This is the jupyter source file for the file LICENSE.md. \n",
    "## "
   ]
  },
  {
   "cell_type": "markdown",
   "metadata": {},
   "source": [
    "## OpenStreetMap\n",
    "\n",
    "The markers displayed by the `osm-timeslider` visualization are extracted from the 10/2015 OpenStreetMap snapshot. The OpenStreetMap data is &copy; OpenStreetMap contributors, and available under the terms of the [ODbL](www.openstreetmap.org/copyright). For further details about the data shown in the visualizations, please see the [README](./data/README.md) file in the `data` directory.\n",
    "\n",
    "The interactive map is drawn using the [Leaflet library](http://leafletjs.com/) (see below for its license) using the [Positron tiles](https://cartodb.com/basemaps) (tiles &copy; CartoDB, CC BY 3.0)."
   ]
  },
  {
   "cell_type": "markdown",
   "metadata": {},
   "source": [
    "## osm-timeslider visualization\n",
    "\n",
    "The below source files \n",
    "\n",
    "- public/css/main.css\n",
    "- public/src/(all .js files)\n",
    "- public/index.html\n",
    "- scripts/(all files)\n",
    "\n",
    "for the `osm-timeslider` visualization are released under the following license (see [opensource.org/licenses/BSD-2-Clause](http://opensource.org/licenses/BSD-2-Clause)):\n",
    "\n",
    ">Copyright (c) 2015, Matias Dahl.\n",
    ">All rights reserved.\n",
    ">\n",
    ">Redistribution and use in source and binary forms, with or without modification, are permitted provided that the following conditions are met:\n",
    ">\n",
    ">1. Redistributions of source code must retain the above copyright notice, this list of conditions and the following disclaimer.\n",
    ">\n",
    ">2. Redistributions in binary form must reproduce the above copyright notice, this list of conditions and the following disclaimer in the documentation and/or other materials provided with the distribution.\n",
    ">\n",
    ">THIS SOFTWARE IS PROVIDED BY THE COPYRIGHT HOLDERS AND CONTRIBUTORS \"AS IS\" AND ANY EXPRESS OR IMPLIED WARRANTIES, INCLUDING, BUT NOT LIMITED TO, THE IMPLIED WARRANTIES OF MERCHANTABILITY AND FITNESS FOR A PARTICULAR PURPOSE ARE DISCLAIMED. IN NO EVENT SHALL THE COPYRIGHT HOLDER OR CONTRIBUTORS BE LIABLE FOR ANY DIRECT, INDIRECT, INCIDENTAL, SPECIAL, EXEMPLARY, OR CONSEQUENTIAL DAMAGES (INCLUDING, BUT NOT LIMITED TO, PROCUREMENT OF SUBSTITUTE GOODS OR SERVICES; LOSS OF USE, DATA, OR PROFITS; OR BUSINESS INTERRUPTION) HOWEVER CAUSED AND ON ANY THEORY OF LIABILITY, WHETHER IN CONTRACT, STRICT LIABILITY, OR TORT (INCLUDING NEGLIGENCE OR OTHERWISE) ARISING IN ANY WAY OUT OF THE USE OF THIS SOFTWARE, EVEN IF ADVISED OF THE POSSIBILITY OF SUCH DAMAGE.\n",
    ">\n",
    "\n",
    "In addition, the visualization makes use of the file [public/css/slider.css](./public/css/slider.css). This is a modified version of the file [css/iThing.css](https://github.com/ghusse/jQRangeSlider/blob/master/css/iThing.css) in the [jQRangeSlider 5.7.1](https://github.com/ghusse/jQRangeSlider) library, which is used here under the MIT license (see below for the license text). The modifications to `iThing.css` are (c) Matias Dahl, 2015 and these modifications are also released under the MIT license. See the [modified file](./public/css/slider.css) for further details.\n",
    "\n",
    "Please be aware that the `osm-timeslider` repository contains many files that are not covered by the license quoted above. For example, the screenshots shown in the main [README](./README.md) are subject to the terms of the ODbL and CC BY 3.0, see above."
   ]
  },
  {
   "cell_type": "code",
   "execution_count": 4,
   "metadata": {
    "collapsed": true
   },
   "outputs": [],
   "source": [
    "from IPython.display import Markdown\n",
    "\n",
    "def quote_license(fname):\n",
    "    f = open(fname, 'r')\n",
    "    content = ''.join(['>' + line for line in f.readlines()])\n",
    "    f.close()\n",
    "    return Markdown(content)"
   ]
  },
  {
   "cell_type": "markdown",
   "metadata": {
    "variables": {
     " quote_license('./lib/Leaflet-1.0.0-beta.2/LICENSE') ": "<blockquote>\n<p>Copyright (c) 2010-2015, Vladimir Agafonkin\nCopyright (c) 2010-2011, CloudMade\nAll rights reserved.</p>\n<p>Redistribution and use in source and binary forms, with or without modification, are\npermitted provided that the following conditions are met:</p>\n<ol>\n<li><p>Redistributions of source code must retain the above copyright notice, this list of\nconditions and the following disclaimer.</p>\n</li>\n<li><p>Redistributions in binary form must reproduce the above copyright notice, this list\nof conditions and the following disclaimer in the documentation and/or other materials\nprovided with the distribution.</p>\n</li>\n</ol>\n<p>THIS SOFTWARE IS PROVIDED BY THE COPYRIGHT HOLDERS AND CONTRIBUTORS &quot;AS IS&quot; AND ANY\nEXPRESS OR IMPLIED WARRANTIES, INCLUDING, BUT NOT LIMITED TO, THE IMPLIED WARRANTIES OF\nMERCHANTABILITY AND FITNESS FOR A PARTICULAR PURPOSE ARE DISCLAIMED. IN NO EVENT SHALL THE\nCOPYRIGHT HOLDER OR CONTRIBUTORS BE LIABLE FOR ANY DIRECT, INDIRECT, INCIDENTAL, SPECIAL,\nEXEMPLARY, OR CONSEQUENTIAL DAMAGES (INCLUDING, BUT NOT LIMITED TO, PROCUREMENT OF\nSUBSTITUTE GOODS OR SERVICES; LOSS OF USE, DATA, OR PROFITS; OR BUSINESS INTERRUPTION)\nHOWEVER CAUSED AND ON ANY THEORY OF LIABILITY, WHETHER IN CONTRACT, STRICT LIABILITY, OR\nTORT (INCLUDING NEGLIGENCE OR OTHERWISE) ARISING IN ANY WAY OUT OF THE USE OF THIS\nSOFTWARE, EVEN IF ADVISED OF THE POSSIBILITY OF SUCH DAMAGE.</p>\n</blockquote>\n",
     " quote_license('./lib/SpinKit-1.2.2/LICENSE') ": "<blockquote>\n<p>The MIT License (MIT)</p>\n<p>Copyright (c) 2014 Tobias Ahlin</p>\n<p>Permission is hereby granted, free of charge, to any person obtaining a copy of\nthis software and associated documentation files (the &quot;Software&quot;), to deal in\nthe Software without restriction, including without limitation the rights to\nuse, copy, modify, merge, publish, distribute, sublicense, and/or sell copies of\nthe Software, and to permit persons to whom the Software is furnished to do so,\nsubject to the following conditions:</p>\n<p>The above copyright notice and this permission notice shall be included in all\ncopies or substantial portions of the Software.</p>\n<p>THE SOFTWARE IS PROVIDED &quot;AS IS&quot;, WITHOUT WARRANTY OF ANY KIND, EXPRESS OR\nIMPLIED, INCLUDING BUT NOT LIMITED TO THE WARRANTIES OF MERCHANTABILITY, FITNESS\nFOR A PARTICULAR PURPOSE AND NONINFRINGEMENT. IN NO EVENT SHALL THE AUTHORS OR\nCOPYRIGHT HOLDERS BE LIABLE FOR ANY CLAIM, DAMAGES OR OTHER LIABILITY, WHETHER\nIN AN ACTION OF CONTRACT, TORT OR OTHERWISE, ARISING FROM, OUT OF OR IN\nCONNECTION WITH THE SOFTWARE OR THE USE OR OTHER DEALINGS IN THE SOFTWARE.</p>\n</blockquote>\n",
     " quote_license('./lib/jQRangeSlider-5.7.1/MIT-license.txt') ": "<blockquote>\n<p>Copyright (c) 2012 Guillaume Gautreau</p>\n<p>Permission is hereby granted, free of charge, to any person obtaining\na copy of this software and associated documentation files (the\n&quot;Software&quot;), to deal in the Software without restriction, including\nwithout limitation the rights to use, copy, modify, merge, publish,\ndistribute, sublicense, and/or sell copies of the Software, and to\npermit persons to whom the Software is furnished to do so, subject to\nthe following conditions:</p>\n<p>The above copyright notice and this permission notice shall be\nincluded in all copies or substantial portions of the Software.</p>\n<p>THE SOFTWARE IS PROVIDED &quot;AS IS&quot;, WITHOUT WARRANTY OF ANY KIND,\nEXPRESS OR IMPLIED, INCLUDING BUT NOT LIMITED TO THE WARRANTIES OF\nMERCHANTABILITY, FITNESS FOR A PARTICULAR PURPOSE AND\nNONINFRINGEMENT. IN NO EVENT SHALL THE AUTHORS OR COPYRIGHT HOLDERS BE\nLIABLE FOR ANY CLAIM, DAMAGES OR OTHER LIABILITY, WHETHER IN AN ACTION\nOF CONTRACT, TORT OR OTHERWISE, ARISING FROM, OUT OF OR IN CONNECTION\nWITH THE SOFTWARE OR THE USE OR OTHER DEALINGS IN THE SOFTWARE.</p>\n</blockquote>\n",
     " quote_license('./lib/jquery-modal-0.5.9/LICENSE') ": "<blockquote>\n<p>jQuery Modal is distributed under the MIT License.\nLearn more at <a href=\"http://opensource.org/licenses/mit-license.php\">http://opensource.org/licenses/mit-license.php</a></p>\n<hr>\n<p>Copyright (c) 2012 Kyle Fox</p>\n<p>Permission is hereby granted, free of charge, to any person obtaining\na copy of this software and associated documentation files (the\n&quot;Software&quot;), to deal in the Software without restriction, including\nwithout limitation the rights to use, copy, modify, merge, publish,\ndistribute, sublicense, and/or sell copies of the Software, and to\npermit persons to whom the Software is furnished to do so, subject to\nthe following conditions:</p>\n<p>The above copyright notice and this permission notice shall be\nincluded in all copies or substantial portions of the Software.</p>\n<p>THE SOFTWARE IS PROVIDED &quot;AS IS&quot;, WITHOUT WARRANTY OF ANY KIND,\nEXPRESS OR IMPLIED, INCLUDING BUT NOT LIMITED TO THE WARRANTIES OF\nMERCHANTABILITY, FITNESS FOR A PARTICULAR PURPOSE AND\nNONINFRINGEMENT. IN NO EVENT SHALL THE AUTHORS OR COPYRIGHT HOLDERS BE\nLIABLE FOR ANY CLAIM, DAMAGES OR OTHER LIABILITY, WHETHER IN AN ACTION\nOF CONTRACT, TORT OR OTHERWISE, ARISING FROM, OUT OF OR IN CONNECTION\nWITH THE SOFTWARE OR THE USE OR OTHER DEALINGS IN THE SOFTWARE.</p>\n</blockquote>\n"
    }
   },
   "source": [
    "## Open source libraries\n",
    "\n",
    "The `osm-timeslider` visualization makes use of a number of open source libraries:\n",
    "\n",
    "#### jQRangeSlider 5.7.1 ([github.com/ghusse/jQRangeSlider](https://github.com/ghusse/jQRangeSlider))\n",
    "\n",
    "jQRangeSlider 5.7.1 is dual licensed under GPL/MIT. It is used here under the terms of the MIT license. License file (MIT-license.txt):\n",
    "\n",
    "{{ quote_license('./lib/jQRangeSlider-5.7.1/MIT-license.txt') }}\n",
    "\n",
    "#### SpinKit 1.2.2 ([github.com/tobiasahlin/SpinKit](https://github.com/tobiasahlin/SpinKit)) \n",
    "\n",
    "License file:\n",
    "\n",
    "{{ quote_license('./lib/SpinKit-1.2.2/LICENSE') }}\n",
    "\n",
    "#### jQuery modal 0.5.9 ([github.com/kylefox/jquery-modal](https://github.com/kylefox/jquery-modal))\n",
    "\n",
    "License file:\n",
    "\n",
    "{{ quote_license('./lib/jquery-modal-0.5.9/LICENSE') }}\n",
    "\n",
    "#### Leaflet 1.0.0-beta.2 ([github.com/Leaflet/Leaflet](https://github.com/Leaflet/Leaflet))\n",
    "  \n",
    "License file:\n",
    "\n",
    "{{ quote_license('./lib/Leaflet-1.0.0-beta.2/LICENSE') }}\n"
   ]
  }
 ],
 "metadata": {
  "kernelspec": {
   "display_name": "Python 3",
   "language": "python",
   "name": "python3"
  },
  "language_info": {
   "codemirror_mode": {
    "name": "ipython",
    "version": 3
   },
   "file_extension": ".py",
   "mimetype": "text/x-python",
   "name": "python",
   "nbconvert_exporter": "python",
   "pygments_lexer": "ipython3",
   "version": "3.4.1"
  }
 },
 "nbformat": 4,
 "nbformat_minor": 0
}
