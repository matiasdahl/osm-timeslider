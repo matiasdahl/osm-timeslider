{
 "cells": [
  {
   "cell_type": "code",
   "execution_count": 10,
   "metadata": {
    "collapsed": false
   },
   "outputs": [],
   "source": [
    "from README import *\n",
    "from IPython.display import HTML\n",
    "\n",
    "df = am_table()"
   ]
  },
  {
   "cell_type": "markdown",
   "metadata": {
    "variables": {
     "len(df)": "27"
    }
   },
   "source": [
    "The below list shows the amenities extracted by the `am-process-data.R` script found in the `./data` directory. The list shows those amenity map elements with c. 20k - 100k elements in the current snapshot of the [OpenStreetMap](https://openstreetmap.org) (as of 10/2015). This list contains {{len(df)}} amenities. "
   ]
  },
  {
   "cell_type": "code",
   "execution_count": 11,
   "metadata": {
    "collapsed": false
   },
   "outputs": [
    {
     "data": {
      "text/html": [
       "<table border=\"1\" class=\"dataframe\">\n",
       "  <thead>\n",
       "    <tr style=\"text-align: right;\">\n",
       "      <th>amenity</th>\n",
       "      <th>count</th>\n",
       "      <th>taginfo link</th>\n",
       "      <th>OSM wiki</th>\n",
       "    </tr>\n",
       "  </thead>\n",
       "  <tbody>\n",
       "    <tr>\n",
       "      <td>drinking_water</td>\n",
       "      <td>102003</td>\n",
       "      <td><a href=\"https://taginfo.openstreetmap.org/tags/amenity=\"drinking_water\">link</a></td>\n",
       "      <td><a href=\"https://wiki.openstreetmap.org/wiki/Tag:amenity%3Ddrinking_water\">link</a></td>\n",
       "    </tr>\n",
       "    <tr>\n",
       "      <td>telephone</td>\n",
       "      <td>92363</td>\n",
       "      <td><a href=\"https://taginfo.openstreetmap.org/tags/amenity=\"telephone\">link</a></td>\n",
       "      <td><a href=\"https://wiki.openstreetmap.org/wiki/Tag:amenity%3Dtelephone\">link</a></td>\n",
       "    </tr>\n",
       "    <tr>\n",
       "      <td>atm</td>\n",
       "      <td>88541</td>\n",
       "      <td><a href=\"https://taginfo.openstreetmap.org/tags/amenity=\"atm\">link</a></td>\n",
       "      <td><a href=\"https://wiki.openstreetmap.org/wiki/Tag:amenity%3Datm\">link</a></td>\n",
       "    </tr>\n",
       "    <tr>\n",
       "      <td>bar</td>\n",
       "      <td>84452</td>\n",
       "      <td><a href=\"https://taginfo.openstreetmap.org/tags/amenity=\"bar\">link</a></td>\n",
       "      <td><a href=\"https://wiki.openstreetmap.org/wiki/Tag:amenity%3Dbar\">link</a></td>\n",
       "    </tr>\n",
       "    <tr>\n",
       "      <td>police</td>\n",
       "      <td>78006</td>\n",
       "      <td><a href=\"https://taginfo.openstreetmap.org/tags/amenity=\"police\">link</a></td>\n",
       "      <td><a href=\"https://wiki.openstreetmap.org/wiki/Tag:amenity%3Dpolice\">link</a></td>\n",
       "    </tr>\n",
       "    <tr>\n",
       "      <td>fire_station</td>\n",
       "      <td>77765</td>\n",
       "      <td><a href=\"https://taginfo.openstreetmap.org/tags/amenity=\"fire_station\">link</a></td>\n",
       "      <td><a href=\"https://wiki.openstreetmap.org/wiki/Tag:amenity%3Dfire_station\">link</a></td>\n",
       "    </tr>\n",
       "    <tr>\n",
       "      <td>townhall</td>\n",
       "      <td>72106</td>\n",
       "      <td><a href=\"https://taginfo.openstreetmap.org/tags/amenity=\"townhall\">link</a></td>\n",
       "      <td><a href=\"https://wiki.openstreetmap.org/wiki/Tag:amenity%3Dtownhall\">link</a></td>\n",
       "    </tr>\n",
       "    <tr>\n",
       "      <td>parking_space</td>\n",
       "      <td>70863</td>\n",
       "      <td><a href=\"https://taginfo.openstreetmap.org/tags/amenity=\"parking_space\">link</a></td>\n",
       "      <td><a href=\"https://wiki.openstreetmap.org/wiki/Tag:amenity%3Dparking_space\">link</a></td>\n",
       "    </tr>\n",
       "    <tr>\n",
       "      <td>hunting_stand</td>\n",
       "      <td>69539</td>\n",
       "      <td><a href=\"https://taginfo.openstreetmap.org/tags/amenity=\"hunting_stand\">link</a></td>\n",
       "      <td><a href=\"https://wiki.openstreetmap.org/wiki/Tag:amenity%3Dhunting_stand\">link</a></td>\n",
       "    </tr>\n",
       "    <tr>\n",
       "      <td>vending_machine</td>\n",
       "      <td>63925</td>\n",
       "      <td><a href=\"https://taginfo.openstreetmap.org/tags/amenity=\"vending_machine\">link</a></td>\n",
       "      <td><a href=\"https://wiki.openstreetmap.org/wiki/Tag:amenity%3Dvending_machine\">link</a></td>\n",
       "    </tr>\n",
       "    <tr>\n",
       "      <td>fountain</td>\n",
       "      <td>57480</td>\n",
       "      <td><a href=\"https://taginfo.openstreetmap.org/tags/amenity=\"fountain\">link</a></td>\n",
       "      <td><a href=\"https://wiki.openstreetmap.org/wiki/Tag:amenity%3Dfountain\">link</a></td>\n",
       "    </tr>\n",
       "    <tr>\n",
       "      <td>library</td>\n",
       "      <td>53209</td>\n",
       "      <td><a href=\"https://taginfo.openstreetmap.org/tags/amenity=\"library\">link</a></td>\n",
       "      <td><a href=\"https://wiki.openstreetmap.org/wiki/Tag:amenity%3Dlibrary\">link</a></td>\n",
       "    </tr>\n",
       "    <tr>\n",
       "      <td>doctors</td>\n",
       "      <td>49252</td>\n",
       "      <td><a href=\"https://taginfo.openstreetmap.org/tags/amenity=\"doctors\">link</a></td>\n",
       "      <td><a href=\"https://wiki.openstreetmap.org/wiki/Tag:amenity%3Ddoctors\">link</a></td>\n",
       "    </tr>\n",
       "    <tr>\n",
       "      <td>swimming_pool</td>\n",
       "      <td>47310</td>\n",
       "      <td><a href=\"https://taginfo.openstreetmap.org/tags/amenity=\"swimming_pool\">link</a></td>\n",
       "      <td><a href=\"https://wiki.openstreetmap.org/wiki/Tag:amenity%3Dswimming_pool\">link</a></td>\n",
       "    </tr>\n",
       "    <tr>\n",
       "      <td>social_facility</td>\n",
       "      <td>39005</td>\n",
       "      <td><a href=\"https://taginfo.openstreetmap.org/tags/amenity=\"social_facility\">link</a></td>\n",
       "      <td><a href=\"https://wiki.openstreetmap.org/wiki/Tag:amenity%3Dsocial_facility\">link</a></td>\n",
       "    </tr>\n",
       "    <tr>\n",
       "      <td>university</td>\n",
       "      <td>37972</td>\n",
       "      <td><a href=\"https://taginfo.openstreetmap.org/tags/amenity=\"university\">link</a></td>\n",
       "      <td><a href=\"https://wiki.openstreetmap.org/wiki/Tag:amenity%3Duniversity\">link</a></td>\n",
       "    </tr>\n",
       "    <tr>\n",
       "      <td>car_wash</td>\n",
       "      <td>36432</td>\n",
       "      <td><a href=\"https://taginfo.openstreetmap.org/tags/amenity=\"car_wash\">link</a></td>\n",
       "      <td><a href=\"https://wiki.openstreetmap.org/wiki/Tag:amenity%3Dcar_wash\">link</a></td>\n",
       "    </tr>\n",
       "    <tr>\n",
       "      <td>college</td>\n",
       "      <td>31710</td>\n",
       "      <td><a href=\"https://taginfo.openstreetmap.org/tags/amenity=\"college\">link</a></td>\n",
       "      <td><a href=\"https://wiki.openstreetmap.org/wiki/Tag:amenity%3Dcollege\">link</a></td>\n",
       "    </tr>\n",
       "    <tr>\n",
       "      <td>bus_station</td>\n",
       "      <td>29907</td>\n",
       "      <td><a href=\"https://taginfo.openstreetmap.org/tags/amenity=\"bus_station\">link</a></td>\n",
       "      <td><a href=\"https://wiki.openstreetmap.org/wiki/Tag:amenity%3Dbus_station\">link</a></td>\n",
       "    </tr>\n",
       "    <tr>\n",
       "      <td>community_centre</td>\n",
       "      <td>29471</td>\n",
       "      <td><a href=\"https://taginfo.openstreetmap.org/tags/amenity=\"community_centre\">link</a></td>\n",
       "      <td><a href=\"https://wiki.openstreetmap.org/wiki/Tag:amenity%3Dcommunity_centre\">link</a></td>\n",
       "    </tr>\n",
       "    <tr>\n",
       "      <td>marketplace</td>\n",
       "      <td>29427</td>\n",
       "      <td><a href=\"https://taginfo.openstreetmap.org/tags/amenity=\"marketplace\">link</a></td>\n",
       "      <td><a href=\"https://wiki.openstreetmap.org/wiki/Tag:amenity%3Dmarketplace\">link</a></td>\n",
       "    </tr>\n",
       "    <tr>\n",
       "      <td>dentist</td>\n",
       "      <td>29182</td>\n",
       "      <td><a href=\"https://taginfo.openstreetmap.org/tags/amenity=\"dentist\">link</a></td>\n",
       "      <td><a href=\"https://wiki.openstreetmap.org/wiki/Tag:amenity%3Ddentist\">link</a></td>\n",
       "    </tr>\n",
       "    <tr>\n",
       "      <td>waste_disposal</td>\n",
       "      <td>28252</td>\n",
       "      <td><a href=\"https://taginfo.openstreetmap.org/tags/amenity=\"waste_disposal\">link</a></td>\n",
       "      <td><a href=\"https://wiki.openstreetmap.org/wiki/Tag:amenity%3Dwaste_disposal\">link</a></td>\n",
       "    </tr>\n",
       "    <tr>\n",
       "      <td>theatre</td>\n",
       "      <td>21498</td>\n",
       "      <td><a href=\"https://taginfo.openstreetmap.org/tags/amenity=\"theatre\">link</a></td>\n",
       "      <td><a href=\"https://wiki.openstreetmap.org/wiki/Tag:amenity%3Dtheatre\">link</a></td>\n",
       "    </tr>\n",
       "    <tr>\n",
       "      <td>taxi</td>\n",
       "      <td>21489</td>\n",
       "      <td><a href=\"https://taginfo.openstreetmap.org/tags/amenity=\"taxi\">link</a></td>\n",
       "      <td><a href=\"https://wiki.openstreetmap.org/wiki/Tag:amenity%3Dtaxi\">link</a></td>\n",
       "    </tr>\n",
       "    <tr>\n",
       "      <td>clinic</td>\n",
       "      <td>19927</td>\n",
       "      <td><a href=\"https://taginfo.openstreetmap.org/tags/amenity=\"clinic\">link</a></td>\n",
       "      <td><a href=\"https://wiki.openstreetmap.org/wiki/Tag:amenity%3Dclinic\">link</a></td>\n",
       "    </tr>\n",
       "    <tr>\n",
       "      <td>parking_entrance</td>\n",
       "      <td>19479</td>\n",
       "      <td><a href=\"https://taginfo.openstreetmap.org/tags/amenity=\"parking_entrance\">link</a></td>\n",
       "      <td><a href=\"https://wiki.openstreetmap.org/wiki/Tag:amenity%3Dparking_entrance\">link</a></td>\n",
       "    </tr>\n",
       "  </tbody>\n",
       "</table>"
      ],
      "text/plain": [
       "<IPython.core.display.HTML object>"
      ]
     },
     "execution_count": 11,
     "metadata": {},
     "output_type": "execute_result"
    }
   ],
   "source": [
    "HTML(df.to_html(escape=False, index=False))"
   ]
  },
  {
   "cell_type": "markdown",
   "metadata": {
    "collapsed": true
   },
   "source": [
    "A more detailed description of how the amenity map elements were extracted is given in the [README](./data/README.md) file for the `am-process-data.R`-script."
   ]
  },
  {
   "cell_type": "markdown",
   "metadata": {
    "collapsed": true
   },
   "source": [
    "### License "
   ]
  },
  {
   "cell_type": "markdown",
   "metadata": {},
   "source": [
    "The above table is generated from data from the [OpenStreetMap](https:/openstreetmap.org) project. The OSM data is © OpenStreetMap contributors, and it is available under the terms of the [Open Database License](https://www.openstreetmap.org/copyright)."
   ]
  }
 ],
 "metadata": {
  "kernelspec": {
   "display_name": "Python 3",
   "language": "python",
   "name": "python3"
  },
  "language_info": {
   "codemirror_mode": {
    "name": "ipython",
    "version": 3
   },
   "file_extension": ".py",
   "mimetype": "text/x-python",
   "name": "python",
   "nbconvert_exporter": "python",
   "pygments_lexer": "ipython3",
   "version": "3.4.1"
  },
  "latex_envs": {
   "bibliofile": "biblio.bib",
   "cite_by": "apalike",
   "current_citInitial": 1,
   "eqLabelWithNumbers": true,
   "eqNumInitial": 0
  }
 },
 "nbformat": 4,
 "nbformat_minor": 0
}
