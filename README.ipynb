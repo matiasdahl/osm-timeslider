{
 "cells": [
  {
   "cell_type": "markdown",
   "metadata": {},
   "source": [
    "The [OpenStreetMap](http://www.openstreetmap.org/) project started in 2004, and as of 10/2015, the project contains slightly more than 3 billion map elements with approximately 1 million entries added per day, see the [OSM wiki](http://wiki.openstreetmap.org/wiki/Stats). Regarding the coverage of the OpenStreetMap, it is well known that -- at least currently -- it is very uneven, and the level of detail varies significantly from location to location. This can, for example, be seen from the [interactive visualization](http://tyrasd.github.io/osm-node-density/#2/16.5/389.2) of node density by Martin Raifer, see also the [writeup](http://www.openstreetmap.org/user/tyr_asd/diary/22363). "
   ]
  },
  {
   "cell_type": "markdown",
   "metadata": {},
   "source": [
    "Instead of visualizing *all* elements on the latest version of the map, the purpose of `osm-timeslider` (this repo) is to give a way to visualize the *history* of the OSM; `osm-timeslider` makes it possible to selectively view elements that were last edited (or created) during a specific time period. The motivation for doing this is to give a way to better understand how the OpenStreetMap has evolved into its current state. However, to keep the scope of this work somehow under control, `osm-timeslider` will not consider all map elements. Rather, it will restrict to *amenities*, that is, map elements with an `amenity=..`-tag. These are one of the most frequently used tags on the OSM. Further, the visualizations are restricted to those amenities with c. 20k - 100k elements on the current map. General information about amenities and their use on the OpenStreetMap is collected on the [OSM wiki](http://wiki.openstreetmap.org/wiki/Key:amenity). Statistics about the most popular tags (including amenity tags) can be found on the [taginfo webpage](https://taginfo.openstreetmap.org/keys/amenity#values). "
   ]
  },
  {
   "cell_type": "markdown",
   "metadata": {},
   "source": [
    "`osm-timeslider` is browser-based and written using the [Leaflet library](http://leafletjs.com/). \n",
    "\n",
    "The below screenshots show examples of `osm-timeslider` in use. The first screenshot shows clinics in a region around Mali. Each clinic element (that is, each map element with an `amenity=clinic` tag) is shown as as a colored dot with the color indicating when the element was last edited (or created). For example, the teal colored dots represent map elements with a timestamp from 2013. Moreover, the slider on the bottom of the screen can be used to change the selected time period. In the clinic screenshot, the slider is set to display clinics from 2007 to the beginning of 2015. Clicking on a marker also displays further information about the map element."
   ]
  },
  {
   "cell_type": "code",
   "execution_count": 1,
   "metadata": {
    "collapsed": false
   },
   "outputs": [],
   "source": [
    "from README import *\n",
    "from IPython.display import HTML\n",
    "\n",
    "df = am_table()"
   ]
  },
  {
   "cell_type": "markdown",
   "metadata": {
    "variables": {
     " len(df) ": "27"
    }
   },
   "source": [
    "The below list shows the amenities extracted by the `am-process-data.R` script found in the `./data` directory. The list shows those amenities with c. 20k - 100k elements in the current snapshot of the [OpenStreetMap](https://openstreetmap.org) (as of 10/2015). This list contains {{ len(df) }} amenities. "
   ]
  },
  {
   "cell_type": "code",
   "execution_count": 3,
   "metadata": {
    "collapsed": false
   },
   "outputs": [
    {
     "data": {
      "text/html": [
       "<table border=\"1\" class=\"dataframe\">\n",
       "  <thead>\n",
       "    <tr style=\"text-align: right;\">\n",
       "      <th>amenity</th>\n",
       "      <th>count</th>\n",
       "      <th>taginfo link</th>\n",
       "      <th>OSM wiki</th>\n",
       "    </tr>\n",
       "  </thead>\n",
       "  <tbody>\n",
       "    <tr>\n",
       "      <td>drinking_water</td>\n",
       "      <td>102003</td>\n",
       "      <td><a href=\"https://taginfo.openstreetmap.org/tags/amenity=drinking_water\">link</a></td>\n",
       "      <td><a href=\"https://wiki.openstreetmap.org/wiki/Tag:amenity%3Ddrinking_water\">link</a></td>\n",
       "    </tr>\n",
       "    <tr>\n",
       "      <td>telephone</td>\n",
       "      <td>92363</td>\n",
       "      <td><a href=\"https://taginfo.openstreetmap.org/tags/amenity=telephone\">link</a></td>\n",
       "      <td><a href=\"https://wiki.openstreetmap.org/wiki/Tag:amenity%3Dtelephone\">link</a></td>\n",
       "    </tr>\n",
       "    <tr>\n",
       "      <td>atm</td>\n",
       "      <td>88541</td>\n",
       "      <td><a href=\"https://taginfo.openstreetmap.org/tags/amenity=atm\">link</a></td>\n",
       "      <td><a href=\"https://wiki.openstreetmap.org/wiki/Tag:amenity%3Datm\">link</a></td>\n",
       "    </tr>\n",
       "    <tr>\n",
       "      <td>bar</td>\n",
       "      <td>84452</td>\n",
       "      <td><a href=\"https://taginfo.openstreetmap.org/tags/amenity=bar\">link</a></td>\n",
       "      <td><a href=\"https://wiki.openstreetmap.org/wiki/Tag:amenity%3Dbar\">link</a></td>\n",
       "    </tr>\n",
       "    <tr>\n",
       "      <td>police</td>\n",
       "      <td>78006</td>\n",
       "      <td><a href=\"https://taginfo.openstreetmap.org/tags/amenity=police\">link</a></td>\n",
       "      <td><a href=\"https://wiki.openstreetmap.org/wiki/Tag:amenity%3Dpolice\">link</a></td>\n",
       "    </tr>\n",
       "    <tr>\n",
       "      <td>fire_station</td>\n",
       "      <td>77765</td>\n",
       "      <td><a href=\"https://taginfo.openstreetmap.org/tags/amenity=fire_station\">link</a></td>\n",
       "      <td><a href=\"https://wiki.openstreetmap.org/wiki/Tag:amenity%3Dfire_station\">link</a></td>\n",
       "    </tr>\n",
       "    <tr>\n",
       "      <td>townhall</td>\n",
       "      <td>72106</td>\n",
       "      <td><a href=\"https://taginfo.openstreetmap.org/tags/amenity=townhall\">link</a></td>\n",
       "      <td><a href=\"https://wiki.openstreetmap.org/wiki/Tag:amenity%3Dtownhall\">link</a></td>\n",
       "    </tr>\n",
       "    <tr>\n",
       "      <td>parking_space</td>\n",
       "      <td>70863</td>\n",
       "      <td><a href=\"https://taginfo.openstreetmap.org/tags/amenity=parking_space\">link</a></td>\n",
       "      <td><a href=\"https://wiki.openstreetmap.org/wiki/Tag:amenity%3Dparking_space\">link</a></td>\n",
       "    </tr>\n",
       "    <tr>\n",
       "      <td>hunting_stand</td>\n",
       "      <td>69539</td>\n",
       "      <td><a href=\"https://taginfo.openstreetmap.org/tags/amenity=hunting_stand\">link</a></td>\n",
       "      <td><a href=\"https://wiki.openstreetmap.org/wiki/Tag:amenity%3Dhunting_stand\">link</a></td>\n",
       "    </tr>\n",
       "    <tr>\n",
       "      <td>vending_machine</td>\n",
       "      <td>63925</td>\n",
       "      <td><a href=\"https://taginfo.openstreetmap.org/tags/amenity=vending_machine\">link</a></td>\n",
       "      <td><a href=\"https://wiki.openstreetmap.org/wiki/Tag:amenity%3Dvending_machine\">link</a></td>\n",
       "    </tr>\n",
       "    <tr>\n",
       "      <td>fountain</td>\n",
       "      <td>57480</td>\n",
       "      <td><a href=\"https://taginfo.openstreetmap.org/tags/amenity=fountain\">link</a></td>\n",
       "      <td><a href=\"https://wiki.openstreetmap.org/wiki/Tag:amenity%3Dfountain\">link</a></td>\n",
       "    </tr>\n",
       "    <tr>\n",
       "      <td>library</td>\n",
       "      <td>53209</td>\n",
       "      <td><a href=\"https://taginfo.openstreetmap.org/tags/amenity=library\">link</a></td>\n",
       "      <td><a href=\"https://wiki.openstreetmap.org/wiki/Tag:amenity%3Dlibrary\">link</a></td>\n",
       "    </tr>\n",
       "    <tr>\n",
       "      <td>doctors</td>\n",
       "      <td>49252</td>\n",
       "      <td><a href=\"https://taginfo.openstreetmap.org/tags/amenity=doctors\">link</a></td>\n",
       "      <td><a href=\"https://wiki.openstreetmap.org/wiki/Tag:amenity%3Ddoctors\">link</a></td>\n",
       "    </tr>\n",
       "    <tr>\n",
       "      <td>swimming_pool</td>\n",
       "      <td>47310</td>\n",
       "      <td><a href=\"https://taginfo.openstreetmap.org/tags/amenity=swimming_pool\">link</a></td>\n",
       "      <td><a href=\"https://wiki.openstreetmap.org/wiki/Tag:amenity%3Dswimming_pool\">link</a></td>\n",
       "    </tr>\n",
       "    <tr>\n",
       "      <td>social_facility</td>\n",
       "      <td>39005</td>\n",
       "      <td><a href=\"https://taginfo.openstreetmap.org/tags/amenity=social_facility\">link</a></td>\n",
       "      <td><a href=\"https://wiki.openstreetmap.org/wiki/Tag:amenity%3Dsocial_facility\">link</a></td>\n",
       "    </tr>\n",
       "    <tr>\n",
       "      <td>university</td>\n",
       "      <td>37972</td>\n",
       "      <td><a href=\"https://taginfo.openstreetmap.org/tags/amenity=university\">link</a></td>\n",
       "      <td><a href=\"https://wiki.openstreetmap.org/wiki/Tag:amenity%3Duniversity\">link</a></td>\n",
       "    </tr>\n",
       "    <tr>\n",
       "      <td>car_wash</td>\n",
       "      <td>36432</td>\n",
       "      <td><a href=\"https://taginfo.openstreetmap.org/tags/amenity=car_wash\">link</a></td>\n",
       "      <td><a href=\"https://wiki.openstreetmap.org/wiki/Tag:amenity%3Dcar_wash\">link</a></td>\n",
       "    </tr>\n",
       "    <tr>\n",
       "      <td>college</td>\n",
       "      <td>31710</td>\n",
       "      <td><a href=\"https://taginfo.openstreetmap.org/tags/amenity=college\">link</a></td>\n",
       "      <td><a href=\"https://wiki.openstreetmap.org/wiki/Tag:amenity%3Dcollege\">link</a></td>\n",
       "    </tr>\n",
       "    <tr>\n",
       "      <td>bus_station</td>\n",
       "      <td>29907</td>\n",
       "      <td><a href=\"https://taginfo.openstreetmap.org/tags/amenity=bus_station\">link</a></td>\n",
       "      <td><a href=\"https://wiki.openstreetmap.org/wiki/Tag:amenity%3Dbus_station\">link</a></td>\n",
       "    </tr>\n",
       "    <tr>\n",
       "      <td>community_centre</td>\n",
       "      <td>29471</td>\n",
       "      <td><a href=\"https://taginfo.openstreetmap.org/tags/amenity=community_centre\">link</a></td>\n",
       "      <td><a href=\"https://wiki.openstreetmap.org/wiki/Tag:amenity%3Dcommunity_centre\">link</a></td>\n",
       "    </tr>\n",
       "    <tr>\n",
       "      <td>marketplace</td>\n",
       "      <td>29427</td>\n",
       "      <td><a href=\"https://taginfo.openstreetmap.org/tags/amenity=marketplace\">link</a></td>\n",
       "      <td><a href=\"https://wiki.openstreetmap.org/wiki/Tag:amenity%3Dmarketplace\">link</a></td>\n",
       "    </tr>\n",
       "    <tr>\n",
       "      <td>dentist</td>\n",
       "      <td>29182</td>\n",
       "      <td><a href=\"https://taginfo.openstreetmap.org/tags/amenity=dentist\">link</a></td>\n",
       "      <td><a href=\"https://wiki.openstreetmap.org/wiki/Tag:amenity%3Ddentist\">link</a></td>\n",
       "    </tr>\n",
       "    <tr>\n",
       "      <td>waste_disposal</td>\n",
       "      <td>28252</td>\n",
       "      <td><a href=\"https://taginfo.openstreetmap.org/tags/amenity=waste_disposal\">link</a></td>\n",
       "      <td><a href=\"https://wiki.openstreetmap.org/wiki/Tag:amenity%3Dwaste_disposal\">link</a></td>\n",
       "    </tr>\n",
       "    <tr>\n",
       "      <td>theatre</td>\n",
       "      <td>21498</td>\n",
       "      <td><a href=\"https://taginfo.openstreetmap.org/tags/amenity=theatre\">link</a></td>\n",
       "      <td><a href=\"https://wiki.openstreetmap.org/wiki/Tag:amenity%3Dtheatre\">link</a></td>\n",
       "    </tr>\n",
       "    <tr>\n",
       "      <td>taxi</td>\n",
       "      <td>21489</td>\n",
       "      <td><a href=\"https://taginfo.openstreetmap.org/tags/amenity=taxi\">link</a></td>\n",
       "      <td><a href=\"https://wiki.openstreetmap.org/wiki/Tag:amenity%3Dtaxi\">link</a></td>\n",
       "    </tr>\n",
       "    <tr>\n",
       "      <td>clinic</td>\n",
       "      <td>19927</td>\n",
       "      <td><a href=\"https://taginfo.openstreetmap.org/tags/amenity=clinic\">link</a></td>\n",
       "      <td><a href=\"https://wiki.openstreetmap.org/wiki/Tag:amenity%3Dclinic\">link</a></td>\n",
       "    </tr>\n",
       "    <tr>\n",
       "      <td>parking_entrance</td>\n",
       "      <td>19479</td>\n",
       "      <td><a href=\"https://taginfo.openstreetmap.org/tags/amenity=parking_entrance\">link</a></td>\n",
       "      <td><a href=\"https://wiki.openstreetmap.org/wiki/Tag:amenity%3Dparking_entrance\">link</a></td>\n",
       "    </tr>\n",
       "  </tbody>\n",
       "</table>"
      ],
      "text/plain": [
       "<IPython.core.display.HTML object>"
      ]
     },
     "execution_count": 3,
     "metadata": {},
     "output_type": "execute_result"
    }
   ],
   "source": [
    "HTML(df.to_html(escape=False, index=False))"
   ]
  },
  {
   "cell_type": "markdown",
   "metadata": {
    "collapsed": true
   },
   "source": [
    "A more detailed description of how the amenity map elements were extracted is given in the [README](./data/README.md) file in the `data` directory."
   ]
  },
  {
   "cell_type": "markdown",
   "metadata": {},
   "source": [
    "## Screenshots"
   ]
  },
  {
   "cell_type": "markdown",
   "metadata": {},
   "source": [
    "### Clinics in Mali\n",
    "\n",
    "![](./images/clinic.png)"
   ]
  },
  {
   "cell_type": "markdown",
   "metadata": {},
   "source": [
    "### Townhalls in the USA\n",
    "\n",
    "![](./images/townhall.png)\n",
    "\n",
    "The Geographic Names Information System (GNIS) is a database of millions of geographic features in the USA. This was imported into the OSM in 2009, see the [OSM wiki](http://wiki.openstreetmap.org/wiki/USGS_GNIS). In the United States, these database imports can be seen for many of the amenities listed above. These kinds of large database imports can be seen as large point clouds suddenly appearing (or disappearing) when moving the slider. The orange dots in the above screenshot show townhall amenities with a timestamp from 2009. The red dots are townhalls in Boston with a timestamp from 2008, see changeset [143731](http://www.openstreetmap.org/changeset/143731)."
   ]
  },
  {
   "cell_type": "markdown",
   "metadata": {},
   "source": [
    "### Police stations in Japan/South Korea\n",
    "\n",
    "![](./images/police.png)\n",
    "\n",
    "South Korea divides into two regions. The orange dots (in the south) represent police stations with a timestamp from 2009. The teal dots (in the north) represent police stations with a timestamp from 2012. Similarly, the green dots (in the south of Japan) represent police stations with a timestamp from 2011. "
   ]
  },
  {
   "cell_type": "markdown",
   "metadata": {
    "collapsed": true
   },
   "source": [
    "### License "
   ]
  },
  {
   "cell_type": "markdown",
   "metadata": {},
   "source": [
    "The above table and images are generated using data from the [OpenStreetMap](https:/openstreetmap.org) project. The OSM data is © OpenStreetMap contributors, and it is available under the terms of the [ODbL](https://www.openstreetmap.org/copyright). Maps are drawn using the [Leaflet library](http://leafletjs.com/) using the [Positron tiles](https://cartodb.com/basemaps), tiles © CartoDB, CC BY 3.0. \n",
    "\n",
    "For further license information, see the [LICENSE.md](LICENSE.md) file."
   ]
  }
 ],
 "metadata": {
  "kernelspec": {
   "display_name": "Python 3",
   "language": "python",
   "name": "python3"
  },
  "language_info": {
   "codemirror_mode": {
    "name": "ipython",
    "version": 3
   },
   "file_extension": ".py",
   "mimetype": "text/x-python",
   "name": "python",
   "nbconvert_exporter": "python",
   "pygments_lexer": "ipython3",
   "version": "3.4.1"
  },
  "latex_envs": {
   "bibliofile": "biblio.bib",
   "cite_by": "apalike",
   "current_citInitial": 1,
   "eqLabelWithNumbers": true,
   "eqNumInitial": 0
  }
 },
 "nbformat": 4,
 "nbformat_minor": 0
}
